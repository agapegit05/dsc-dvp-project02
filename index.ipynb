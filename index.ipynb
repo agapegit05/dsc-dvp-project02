{
 "cells": [
  {
   "cell_type": "markdown",
   "id": "8f55016a",
   "metadata": {},
   "source": [
    "# Project 2: More Data, More Visualizations"
   ]
  },
  {
   "cell_type": "markdown",
   "id": "b75cfd5d",
   "metadata": {},
   "source": [
    "For this project, the students will:\n",
    "* find a data set of their choosing\n",
    "* get approval from the instructor to use that data set\n",
    "* upon approval, find another (related) data set\n",
    "* join the new data set with the original one to create an \"enriched\" data set\n",
    "* perform an open-ended Exploratory Data Analysis (EDA) on the enriched data set"
   ]
  },
  {
   "cell_type": "markdown",
   "id": "5badf739",
   "metadata": {},
   "source": [
    "Regarding the last bullet, \"open-ended\" means the student chooses the EDA that is performed. The student should have at least three types of data analysis (e.g., mean, standard deviation) and at least three types of graphs (e.g., historgram, bar graph). The student will explain why those variables were chosen for numerical or graphical analysis. Finally, the student will make note of any unusual values for any variable that is analyzed."
   ]
  },
  {
   "cell_type": "code",
   "execution_count": null,
   "id": "2be748a4-d678-4460-ae39-6650fe2c7117",
   "metadata": {},
   "outputs": [],
   "source": [
    "import matplotlib.pyplot as plt\n",
    "import seaborn as sns \n",
    "\n",
    "%matplotlib inline"
   ]
  },
  {
   "cell_type": "markdown",
   "id": "60da4ebc-3ff3-478a-9881-89585acc63b9",
   "metadata": {},
   "source": [
    "**Open the Uganda_Karamoja_District_Crop_Yield_Population_file.**"
   ]
  },
  {
   "cell_type": "code",
   "execution_count": 20,
   "id": "85242959-24cb-4673-a556-47f1026ff01e",
   "metadata": {},
   "outputs": [
    {
     "name": "stdout",
     "output_type": "stream",
     "text": [
      "['OBJECTID', 'NAME', 'POP', 'Area', 'S_Yield_Ha', 'M_Yield_Ha', 'Crop_Area_Ha', 'S_Area_Ha', 'M_Area_Ha', 'S_Prod_Tot', 'M_Prod_Tot']\n",
      "['92', 'ABIM', '90385', '2771977106', '449', '1040', '5470.068394', '3277.295971', '1848.621855', '1471506', '1922567']\n",
      "['96', 'AMUDAT', '101790', '1643582836', '205', '1297', '5765.443719', '2973.42386', '2733.661014', '609552', '3545558']\n",
      "['20', 'KAABONG', '627057', '7373606003', '279', '945', '28121.67253', '20544.19496', '7394.416334', '5731830', '6987723']\n",
      "['85', 'KOTIDO', '243157', '3641539808', '331', '1148', '53032.64945', '50247.4439', '1751.372284', '16631904', '2010575']\n"
     ]
    }
   ],
   "source": [
    "import csv \n",
    "file_path = '/Users/agapegwitabingi/Desktop/DATA 2/TABLES/Uganda_Karamoja_District_Crop_Yield_Population.csv'\n",
    "\n",
    "with open (file_path, mode='r', newline='', encoding='utf-8') as csvfile:\n",
    "    reader = csv.reader(csvfile)\n",
    "    for i , row in enumerate(reader):\n",
    "        print(row)\n",
    "        if i ==4:\n",
    "            break"
   ]
  },
  {
   "cell_type": "code",
   "execution_count": 28,
   "id": "8efc8264-febe-43de-b0f5-fa964139c32f",
   "metadata": {},
   "outputs": [
    {
     "data": {
      "text/html": [
       "<div>\n",
       "<style scoped>\n",
       "    .dataframe tbody tr th:only-of-type {\n",
       "        vertical-align: middle;\n",
       "    }\n",
       "\n",
       "    .dataframe tbody tr th {\n",
       "        vertical-align: top;\n",
       "    }\n",
       "\n",
       "    .dataframe thead th {\n",
       "        text-align: right;\n",
       "    }\n",
       "</style>\n",
       "<table border=\"1\" class=\"dataframe\">\n",
       "  <thead>\n",
       "    <tr style=\"text-align: right;\">\n",
       "      <th></th>\n",
       "      <th>OBJECTID</th>\n",
       "      <th>NAME</th>\n",
       "      <th>POP</th>\n",
       "      <th>Area</th>\n",
       "      <th>S_Yield_Ha</th>\n",
       "      <th>M_Yield_Ha</th>\n",
       "      <th>Crop_Area_Ha</th>\n",
       "      <th>S_Area_Ha</th>\n",
       "      <th>M_Area_Ha</th>\n",
       "      <th>S_Prod_Tot</th>\n",
       "      <th>M_Prod_Tot</th>\n",
       "    </tr>\n",
       "  </thead>\n",
       "  <tbody>\n",
       "    <tr>\n",
       "      <th>0</th>\n",
       "      <td>92</td>\n",
       "      <td>ABIM</td>\n",
       "      <td>90385</td>\n",
       "      <td>2771977106</td>\n",
       "      <td>449</td>\n",
       "      <td>1040</td>\n",
       "      <td>5470.068394</td>\n",
       "      <td>3277.295971</td>\n",
       "      <td>1848.621855</td>\n",
       "      <td>1471506</td>\n",
       "      <td>1922567</td>\n",
       "    </tr>\n",
       "    <tr>\n",
       "      <th>1</th>\n",
       "      <td>96</td>\n",
       "      <td>AMUDAT</td>\n",
       "      <td>101790</td>\n",
       "      <td>1643582836</td>\n",
       "      <td>205</td>\n",
       "      <td>1297</td>\n",
       "      <td>5765.443719</td>\n",
       "      <td>2973.423860</td>\n",
       "      <td>2733.661014</td>\n",
       "      <td>609552</td>\n",
       "      <td>3545558</td>\n",
       "    </tr>\n",
       "    <tr>\n",
       "      <th>2</th>\n",
       "      <td>20</td>\n",
       "      <td>KAABONG</td>\n",
       "      <td>627057</td>\n",
       "      <td>7373606003</td>\n",
       "      <td>279</td>\n",
       "      <td>945</td>\n",
       "      <td>28121.672530</td>\n",
       "      <td>20544.194960</td>\n",
       "      <td>7394.416334</td>\n",
       "      <td>5731830</td>\n",
       "      <td>6987723</td>\n",
       "    </tr>\n",
       "    <tr>\n",
       "      <th>3</th>\n",
       "      <td>85</td>\n",
       "      <td>KOTIDO</td>\n",
       "      <td>243157</td>\n",
       "      <td>3641539808</td>\n",
       "      <td>331</td>\n",
       "      <td>1148</td>\n",
       "      <td>53032.649450</td>\n",
       "      <td>50247.443900</td>\n",
       "      <td>1751.372284</td>\n",
       "      <td>16631904</td>\n",
       "      <td>2010575</td>\n",
       "    </tr>\n",
       "    <tr>\n",
       "      <th>4</th>\n",
       "      <td>5</td>\n",
       "      <td>MOROTO</td>\n",
       "      <td>127811</td>\n",
       "      <td>3570160948</td>\n",
       "      <td>128</td>\n",
       "      <td>355</td>\n",
       "      <td>5954.814048</td>\n",
       "      <td>4741.748776</td>\n",
       "      <td>1190.050606</td>\n",
       "      <td>606944</td>\n",
       "      <td>422468</td>\n",
       "    </tr>\n",
       "  </tbody>\n",
       "</table>\n",
       "</div>"
      ],
      "text/plain": [
       "   OBJECTID     NAME     POP        Area  S_Yield_Ha  M_Yield_Ha  \\\n",
       "0        92     ABIM   90385  2771977106         449        1040   \n",
       "1        96   AMUDAT  101790  1643582836         205        1297   \n",
       "2        20  KAABONG  627057  7373606003         279         945   \n",
       "3        85   KOTIDO  243157  3641539808         331        1148   \n",
       "4         5   MOROTO  127811  3570160948         128         355   \n",
       "\n",
       "   Crop_Area_Ha     S_Area_Ha    M_Area_Ha  S_Prod_Tot  M_Prod_Tot  \n",
       "0   5470.068394   3277.295971  1848.621855     1471506     1922567  \n",
       "1   5765.443719   2973.423860  2733.661014      609552     3545558  \n",
       "2  28121.672530  20544.194960  7394.416334     5731830     6987723  \n",
       "3  53032.649450  50247.443900  1751.372284    16631904     2010575  \n",
       "4   5954.814048   4741.748776  1190.050606      606944      422468  "
      ]
     },
     "execution_count": 28,
     "metadata": {},
     "output_type": "execute_result"
    }
   ],
   "source": [
    "#print the first 5 rows\n",
    "import pandas as pd\n",
    "df=pd.read_csv('/Users/agapegwitabingi/Desktop/DATA 2/TABLES/Uganda_Karamoja_District_Crop_Yield_Population.csv')\n",
    "df.head()"
   ]
  },
  {
   "cell_type": "code",
   "execution_count": 30,
   "id": "fe6ef25e-1f18-43c4-92eb-f2678832ab67",
   "metadata": {},
   "outputs": [
    {
     "name": "stdout",
     "output_type": "stream",
     "text": [
      "<class 'pandas.core.frame.DataFrame'>\n",
      "RangeIndex: 7 entries, 0 to 6\n",
      "Data columns (total 11 columns):\n",
      " #   Column        Non-Null Count  Dtype  \n",
      "---  ------        --------------  -----  \n",
      " 0   OBJECTID      7 non-null      int64  \n",
      " 1   NAME          7 non-null      object \n",
      " 2   POP           7 non-null      int64  \n",
      " 3   Area          7 non-null      int64  \n",
      " 4   S_Yield_Ha    7 non-null      int64  \n",
      " 5   M_Yield_Ha    7 non-null      int64  \n",
      " 6   Crop_Area_Ha  7 non-null      float64\n",
      " 7   S_Area_Ha     7 non-null      float64\n",
      " 8   M_Area_Ha     7 non-null      float64\n",
      " 9   S_Prod_Tot    7 non-null      int64  \n",
      " 10  M_Prod_Tot    7 non-null      int64  \n",
      "dtypes: float64(3), int64(7), object(1)\n",
      "memory usage: 748.0+ bytes\n",
      "None\n"
     ]
    }
   ],
   "source": [
    "print(df.info())"
   ]
  },
  {
   "cell_type": "code",
   "execution_count": 32,
   "id": "6cea4e67-31ce-4a5c-8f3d-4360509d439e",
   "metadata": {},
   "outputs": [
    {
     "data": {
      "text/plain": [
       "Index(['OBJECTID', 'NAME', 'POP', 'Area', 'S_Yield_Ha', 'M_Yield_Ha',\n",
       "       'Crop_Area_Ha', 'S_Area_Ha', 'M_Area_Ha', 'S_Prod_Tot', 'M_Prod_Tot'],\n",
       "      dtype='object')"
      ]
     },
     "execution_count": 32,
     "metadata": {},
     "output_type": "execute_result"
    }
   ],
   "source": [
    "df.columns #checking how many columns are there"
   ]
  },
  {
   "cell_type": "code",
   "execution_count": 34,
   "id": "6705c3d7-c5b9-4bd4-b525-745ef636c7e9",
   "metadata": {},
   "outputs": [
    {
     "data": {
      "text/plain": [
       "0             ABIM\n",
       "1           AMUDAT\n",
       "2          KAABONG\n",
       "3           KOTIDO\n",
       "4           MOROTO\n",
       "5    NAKAPIRIPIRIT\n",
       "6            NAPAK\n",
       "Name: NAME, dtype: object"
      ]
     },
     "execution_count": 34,
     "metadata": {},
     "output_type": "execute_result"
    }
   ],
   "source": [
    "df['NAME']"
   ]
  },
  {
   "cell_type": "code",
   "execution_count": 36,
   "id": "554a9aa3-8561-405e-98a8-1d3c9db56f38",
   "metadata": {},
   "outputs": [
    {
     "data": {
      "text/plain": [
       "count        7\n",
       "unique       7\n",
       "top       ABIM\n",
       "freq         1\n",
       "Name: NAME, dtype: object"
      ]
     },
     "execution_count": 36,
     "metadata": {},
     "output_type": "execute_result"
    }
   ],
   "source": [
    "df['NAME'].describe()    #view some statistics for NAME."
   ]
  },
  {
   "cell_type": "code",
   "execution_count": 40,
   "id": "c2bcaa46-d141-4510-9937-f6c1b4a094dc",
   "metadata": {},
   "outputs": [
    {
     "data": {
      "text/plain": [
       "(7, 11)"
      ]
     },
     "execution_count": 40,
     "metadata": {},
     "output_type": "execute_result"
    }
   ],
   "source": [
    "df.shape    #view the shape of the dataset."
   ]
  },
  {
   "cell_type": "code",
   "execution_count": 42,
   "id": "c01275ee-069a-460c-8c12-ac433154afd6",
   "metadata": {},
   "outputs": [
    {
     "data": {
      "text/html": [
       "<div>\n",
       "<style scoped>\n",
       "    .dataframe tbody tr th:only-of-type {\n",
       "        vertical-align: middle;\n",
       "    }\n",
       "\n",
       "    .dataframe tbody tr th {\n",
       "        vertical-align: top;\n",
       "    }\n",
       "\n",
       "    .dataframe thead th {\n",
       "        text-align: right;\n",
       "    }\n",
       "</style>\n",
       "<table border=\"1\" class=\"dataframe\">\n",
       "  <thead>\n",
       "    <tr style=\"text-align: right;\">\n",
       "      <th></th>\n",
       "      <th>OBJECTID</th>\n",
       "      <th>POP</th>\n",
       "      <th>Area</th>\n",
       "      <th>S_Yield_Ha</th>\n",
       "      <th>M_Yield_Ha</th>\n",
       "      <th>Crop_Area_Ha</th>\n",
       "      <th>S_Area_Ha</th>\n",
       "      <th>M_Area_Ha</th>\n",
       "      <th>S_Prod_Tot</th>\n",
       "      <th>M_Prod_Tot</th>\n",
       "    </tr>\n",
       "  </thead>\n",
       "  <tbody>\n",
       "    <tr>\n",
       "      <th>count</th>\n",
       "      <td>7.000000</td>\n",
       "      <td>7.000000</td>\n",
       "      <td>7.000000e+00</td>\n",
       "      <td>7.000000</td>\n",
       "      <td>7.000000</td>\n",
       "      <td>7.000000</td>\n",
       "      <td>7.000000</td>\n",
       "      <td>7.000000</td>\n",
       "      <td>7.000000e+00</td>\n",
       "      <td>7.000000e+00</td>\n",
       "    </tr>\n",
       "    <tr>\n",
       "      <th>mean</th>\n",
       "      <td>61.714286</td>\n",
       "      <td>214943.571429</td>\n",
       "      <td>3.960853e+09</td>\n",
       "      <td>269.285714</td>\n",
       "      <td>986.142857</td>\n",
       "      <td>21094.520379</td>\n",
       "      <td>16737.636651</td>\n",
       "      <td>3983.947082</td>\n",
       "      <td>4.873098e+06</td>\n",
       "      <td>4.085632e+06</td>\n",
       "    </tr>\n",
       "    <tr>\n",
       "      <th>std</th>\n",
       "      <td>36.481567</td>\n",
       "      <td>188604.280916</td>\n",
       "      <td>1.781860e+09</td>\n",
       "      <td>119.243049</td>\n",
       "      <td>321.566700</td>\n",
       "      <td>17363.854165</td>\n",
       "      <td>16625.963460</td>\n",
       "      <td>2678.911441</td>\n",
       "      <td>5.743724e+06</td>\n",
       "      <td>2.877188e+06</td>\n",
       "    </tr>\n",
       "    <tr>\n",
       "      <th>min</th>\n",
       "      <td>5.000000</td>\n",
       "      <td>90385.000000</td>\n",
       "      <td>1.643583e+09</td>\n",
       "      <td>128.000000</td>\n",
       "      <td>355.000000</td>\n",
       "      <td>5470.068394</td>\n",
       "      <td>2973.423860</td>\n",
       "      <td>1190.050606</td>\n",
       "      <td>6.069440e+05</td>\n",
       "      <td>4.224680e+05</td>\n",
       "    </tr>\n",
       "    <tr>\n",
       "      <th>25%</th>\n",
       "      <td>37.000000</td>\n",
       "      <td>114800.500000</td>\n",
       "      <td>3.171069e+09</td>\n",
       "      <td>171.000000</td>\n",
       "      <td>899.500000</td>\n",
       "      <td>5860.128883</td>\n",
       "      <td>4009.522373</td>\n",
       "      <td>1799.997070</td>\n",
       "      <td>1.040529e+06</td>\n",
       "      <td>1.966571e+06</td>\n",
       "    </tr>\n",
       "    <tr>\n",
       "      <th>50%</th>\n",
       "      <td>80.000000</td>\n",
       "      <td>146780.000000</td>\n",
       "      <td>3.641540e+09</td>\n",
       "      <td>279.000000</td>\n",
       "      <td>1040.000000</td>\n",
       "      <td>22944.296020</td>\n",
       "      <td>16142.015880</td>\n",
       "      <td>2733.661014</td>\n",
       "      <td>2.211456e+06</td>\n",
       "      <td>3.545558e+06</td>\n",
       "    </tr>\n",
       "    <tr>\n",
       "      <th>75%</th>\n",
       "      <td>88.500000</td>\n",
       "      <td>205391.000000</td>\n",
       "      <td>4.362553e+09</td>\n",
       "      <td>343.500000</td>\n",
       "      <td>1206.000000</td>\n",
       "      <td>27247.185510</td>\n",
       "      <td>19890.764085</td>\n",
       "      <td>6484.753740</td>\n",
       "      <td>6.290160e+06</td>\n",
       "      <td>6.288030e+06</td>\n",
       "    </tr>\n",
       "    <tr>\n",
       "      <th>max</th>\n",
       "      <td>96.000000</td>\n",
       "      <td>627057.000000</td>\n",
       "      <td>7.373606e+09</td>\n",
       "      <td>449.000000</td>\n",
       "      <td>1297.000000</td>\n",
       "      <td>53032.649450</td>\n",
       "      <td>50247.443900</td>\n",
       "      <td>7394.416334</td>\n",
       "      <td>1.663190e+07</td>\n",
       "      <td>8.122197e+06</td>\n",
       "    </tr>\n",
       "  </tbody>\n",
       "</table>\n",
       "</div>"
      ],
      "text/plain": [
       "        OBJECTID            POP          Area  S_Yield_Ha   M_Yield_Ha  \\\n",
       "count   7.000000       7.000000  7.000000e+00    7.000000     7.000000   \n",
       "mean   61.714286  214943.571429  3.960853e+09  269.285714   986.142857   \n",
       "std    36.481567  188604.280916  1.781860e+09  119.243049   321.566700   \n",
       "min     5.000000   90385.000000  1.643583e+09  128.000000   355.000000   \n",
       "25%    37.000000  114800.500000  3.171069e+09  171.000000   899.500000   \n",
       "50%    80.000000  146780.000000  3.641540e+09  279.000000  1040.000000   \n",
       "75%    88.500000  205391.000000  4.362553e+09  343.500000  1206.000000   \n",
       "max    96.000000  627057.000000  7.373606e+09  449.000000  1297.000000   \n",
       "\n",
       "       Crop_Area_Ha     S_Area_Ha    M_Area_Ha    S_Prod_Tot    M_Prod_Tot  \n",
       "count      7.000000      7.000000     7.000000  7.000000e+00  7.000000e+00  \n",
       "mean   21094.520379  16737.636651  3983.947082  4.873098e+06  4.085632e+06  \n",
       "std    17363.854165  16625.963460  2678.911441  5.743724e+06  2.877188e+06  \n",
       "min     5470.068394   2973.423860  1190.050606  6.069440e+05  4.224680e+05  \n",
       "25%     5860.128883   4009.522373  1799.997070  1.040529e+06  1.966571e+06  \n",
       "50%    22944.296020  16142.015880  2733.661014  2.211456e+06  3.545558e+06  \n",
       "75%    27247.185510  19890.764085  6484.753740  6.290160e+06  6.288030e+06  \n",
       "max    53032.649450  50247.443900  7394.416334  1.663190e+07  8.122197e+06  "
      ]
     },
     "execution_count": 42,
     "metadata": {},
     "output_type": "execute_result"
    }
   ],
   "source": [
    "df.describe() #view some statistics for each column."
   ]
  },
  {
   "cell_type": "code",
   "execution_count": 44,
   "id": "5366fc40-e449-4550-8c63-2b6ef0d18f0d",
   "metadata": {},
   "outputs": [
    {
     "data": {
      "text/plain": [
       "<bound method NDFrame.tail of    OBJECTID           NAME     POP        Area  S_Yield_Ha  M_Yield_Ha  \\\n",
       "0        92           ABIM   90385  2771977106         449        1040   \n",
       "1        96         AMUDAT  101790  1643582836         205        1297   \n",
       "2        20        KAABONG  627057  7373606003         279         945   \n",
       "3        85         KOTIDO  243157  3641539808         331        1148   \n",
       "4         5         MOROTO  127811  3570160948         128         355   \n",
       "5        54  NAKAPIRIPIRIT  146780  4216323900         356        1264   \n",
       "6        80          NAPAK  167625  4508782023         137         854   \n",
       "\n",
       "   Crop_Area_Ha     S_Area_Ha    M_Area_Ha  S_Prod_Tot  M_Prod_Tot  \n",
       "0   5470.068394   3277.295971  1848.621855     1471506     1922567  \n",
       "1   5765.443719   2973.423860  2733.661014      609552     3545558  \n",
       "2  28121.672530  20544.194960  7394.416334     5731830     6987723  \n",
       "3  53032.649450  50247.443900  1751.372284    16631904     2010575  \n",
       "4   5954.814048   4741.748776  1190.050606      606944      422468  \n",
       "5  26372.698490  19237.333210  6425.788414     6848491     8122197  \n",
       "6  22944.296020  16142.015880  6543.719066     2211456     5588336  >"
      ]
     },
     "execution_count": 44,
     "metadata": {},
     "output_type": "execute_result"
    }
   ],
   "source": [
    "df.tail #last few rows in the data "
   ]
  },
  {
   "cell_type": "code",
   "execution_count": 46,
   "id": "6f94a336-66f9-4842-8b36-61a45ef33f87",
   "metadata": {},
   "outputs": [
    {
     "data": {
      "text/plain": [
       "OBJECTID        0\n",
       "NAME            0\n",
       "POP             0\n",
       "Area            0\n",
       "S_Yield_Ha      0\n",
       "M_Yield_Ha      0\n",
       "Crop_Area_Ha    0\n",
       "S_Area_Ha       0\n",
       "M_Area_Ha       0\n",
       "S_Prod_Tot      0\n",
       "M_Prod_Tot      0\n",
       "dtype: int64"
      ]
     },
     "execution_count": 46,
     "metadata": {},
     "output_type": "execute_result"
    }
   ],
   "source": [
    "#checking for missing values\n",
    "df.isnull().sum() "
   ]
  },
  {
   "cell_type": "code",
   "execution_count": 48,
   "id": "a7bcd674-6667-4837-89f4-37a43302e8c2",
   "metadata": {},
   "outputs": [
    {
     "data": {
      "text/plain": [
       "0"
      ]
     },
     "execution_count": 48,
     "metadata": {},
     "output_type": "execute_result"
    }
   ],
   "source": [
    "df.isnull().sum().sum() #hence no missing values"
   ]
  },
  {
   "cell_type": "code",
   "execution_count": 52,
   "id": "f0fef056-61d7-47bb-8c2c-c32909b38ac2",
   "metadata": {},
   "outputs": [
    {
     "data": {
      "text/plain": [
       "0    False\n",
       "1    False\n",
       "2    False\n",
       "3    False\n",
       "4    False\n",
       "5    False\n",
       "6    False\n",
       "dtype: bool"
      ]
     },
     "execution_count": 52,
     "metadata": {},
     "output_type": "execute_result"
    }
   ],
   "source": [
    "#checking for duplicates.\n",
    "df.duplicated()"
   ]
  },
  {
   "cell_type": "code",
   "execution_count": 56,
   "id": "77617f7f-4ee2-4429-9227-3faf258bad4b",
   "metadata": {},
   "outputs": [
    {
     "data": {
      "text/plain": [
       "0"
      ]
     },
     "execution_count": 56,
     "metadata": {},
     "output_type": "execute_result"
    }
   ],
   "source": [
    " #hence no duplicates\n",
    "df.duplicated().sum()"
   ]
  },
  {
   "cell_type": "code",
   "execution_count": null,
   "id": "624f0d17-3dd5-4208-be74-d2ec48abb47f",
   "metadata": {},
   "outputs": [],
   "source": []
  }
 ],
 "metadata": {
  "kernelspec": {
   "display_name": "Python 3 (ipykernel)",
   "language": "python",
   "name": "python3"
  },
  "language_info": {
   "codemirror_mode": {
    "name": "ipython",
    "version": 3
   },
   "file_extension": ".py",
   "mimetype": "text/x-python",
   "name": "python",
   "nbconvert_exporter": "python",
   "pygments_lexer": "ipython3",
   "version": "3.12.2"
  }
 },
 "nbformat": 4,
 "nbformat_minor": 5
}
